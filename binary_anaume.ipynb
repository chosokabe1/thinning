{
 "cells": [
  {
   "cell_type": "code",
   "execution_count": 17,
   "metadata": {},
   "outputs": [],
   "source": [
    "import cv2\n",
    "import glob\n",
    "import os\n",
    "import numpy as np"
   ]
  },
  {
   "cell_type": "code",
   "execution_count": 18,
   "metadata": {},
   "outputs": [
    {
     "name": "stdout",
     "output_type": "stream",
     "text": [
      "4.6.0\n"
     ]
    }
   ],
   "source": [
    "print(cv2.__version__)"
   ]
  },
  {
   "cell_type": "code",
   "execution_count": 19,
   "metadata": {},
   "outputs": [],
   "source": [
    "kernel = np.ones((5,5),np.uint8)\n",
    "kernel_big = np.ones((10,10),np.uint8)\n",
    "kernel_ellipse = cv2.getStructuringElement(cv2.MORPH_ELLIPSE, (5, 5))"
   ]
  },
  {
   "cell_type": "code",
   "execution_count": 20,
   "metadata": {},
   "outputs": [],
   "source": [
    "def remove_objects(img, lower_size=None, upper_size=None):\n",
    "  # find all objects\n",
    "  nlabels, labels, stats, centroids = cv2.connectedComponentsWithStats(img)\n",
    "\n",
    "  sizes = stats[1:, -1]\n",
    "  _img = np.zeros((labels.shape))\n",
    "\n",
    "  # process all objects, label=0 is background, objects are started from 1\n",
    "  for i in range(1, nlabels):\n",
    "\n",
    "    # remove small objects\n",
    "    if (lower_size is not None) and (upper_size is not None):\n",
    "      if lower_size < sizes[i - 1] and sizes[i - 1] < upper_size:\n",
    "        _img[labels == i] = 255\n",
    "\n",
    "    elif (lower_size is not None) and (upper_size is None):\n",
    "      if lower_size < sizes[i - 1]:\n",
    "        _img[labels == i] = 255\n",
    "\n",
    "    elif (lower_size is None) and (upper_size is not None):\n",
    "      if sizes[i - 1] < upper_size:\n",
    "        _img[labels == i] = 255\n",
    "\n",
    "  return _img"
   ]
  },
  {
   "cell_type": "code",
   "execution_count": 21,
   "metadata": {},
   "outputs": [],
   "source": [
    "for file in glob.glob(os.path.join('sample', '*')):\n",
    "  img = cv2.imread(file)\n",
    "  gray = cv2.cvtColor(img, cv2.COLOR_RGB2GRAY)\n",
    "  ret, th = cv2.threshold(gray, 0, 255, cv2.THRESH_OTSU + cv2.THRESH_BINARY_INV)\n",
    "  th = cv2.morphologyEx(th, cv2.MORPH_OPEN, kernel_ellipse)\n",
    "  th = cv2.morphologyEx(th, cv2.MORPH_CLOSE, kernel_ellipse)\n",
    "  th_clean = remove_objects(th, lower_size=30000, upper_size=None)\n",
    "  th_clean = th_clean.astype(np.uint8)\n",
    "  th_clean = cv2.morphologyEx(th_clean, cv2.MORPH_CLOSE, kernel_ellipse, iterations=2)\n",
    "\n",
    "  # cv2.imwrite(os.path.join('binary',os.path.basename(file)), th)\n",
    "  # cv2.imwrite(os.path.join('otu_clean',os.path.basename(file)), th_clean)\n",
    "\n",
    "  th_clean_not = cv2.bitwise_not(th_clean)\n",
    "  # cv2.imwrite(os.path.join('otu_clean_not',os.path.basename(file)), th_clean_not)\n",
    "  th_clean_not_clean = remove_objects(th_clean_not, lower_size=None, upper_size=5000)\n",
    "  th_clean_not_clean = th_clean_not_clean.astype(np.uint8)\n",
    "  # cv2.imwrite(os.path.join('otu_clean_not_clean',os.path.basename(file)), th_clean_not_clean)\n",
    "\n",
    "  anaume = cv2.bitwise_or(th_clean, th_clean_not_clean)\n",
    "  cv2.imwrite(os.path.join('anaume',os.path.basename(file)), anaume)\n",
    "\n",
    "\n",
    "  # 細線化(スケルトン化) THINNING_ZHANGSUEN\n",
    "  skeleton1 = cv2.ximgproc.thinning(anaume, thinningType=cv2.ximgproc.THINNING_ZHANGSUEN)\n",
    "  # 細線化(スケルトン化) THINNING_GUOHALL \n",
    "  skeleton2 = cv2.ximgproc.thinning(anaume, thinningType=cv2.ximgproc.THINNING_GUOHALL)\n",
    "\n",
    "  cv2.imwrite(os.path.join('skeleton1',os.path.splitext(os.path.basename(file))[0] + '.bmp'), skeleton1)\n",
    "  cv2.imwrite(os.path.join('skeleton2',os.path.splitext(os.path.basename(file))[0] + '.bmp'), skeleton2)"
   ]
  }
 ],
 "metadata": {
  "kernelspec": {
   "display_name": "Python 3.8.10 ('.sen': venv)",
   "language": "python",
   "name": "python3"
  },
  "language_info": {
   "codemirror_mode": {
    "name": "ipython",
    "version": 3
   },
   "file_extension": ".py",
   "mimetype": "text/x-python",
   "name": "python",
   "nbconvert_exporter": "python",
   "pygments_lexer": "ipython3",
   "version": "3.8.10"
  },
  "orig_nbformat": 4,
  "vscode": {
   "interpreter": {
    "hash": "52c25e5d2c0298585f6976033ea699090aee416a2ac953fc04a260c1a5416d53"
   }
  }
 },
 "nbformat": 4,
 "nbformat_minor": 2
}
